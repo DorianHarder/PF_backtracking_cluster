{
 "cells": [
  {
   "cell_type": "code",
   "execution_count": 5,
   "id": "47538a4e",
   "metadata": {},
   "outputs": [],
   "source": [
    "import numpy as np\n",
    "import math\n",
    "import geopandas as gpd\n",
    "from math import *"
   ]
  },
  {
   "cell_type": "code",
   "execution_count": 6,
   "id": "cfd2d770",
   "metadata": {},
   "outputs": [],
   "source": [
    "def azimuthAngle( x1, y1, x2, y2):\n",
    "    angle = 0.0;\n",
    "    dx = x2 - x1\n",
    "    dy = y2 - y1\n",
    "    if x2 == x1 and y2 < y1 :\n",
    "        angle = 2* math.pi - math.pi / 2.0\n",
    "    elif x2 == x1 and y2 > y1 :\n",
    "        angle = math.pi/2\n",
    "        \n",
    "    elif x2 > x1 and y2 > y1:\n",
    "        angle = math.pi/2 - math.atan(dx / dy)\n",
    "    elif x2 > x1 and y2 < y1 :\n",
    "        angle = 2*math.pi - math.atan(-dy / dx)\n",
    "    elif x2 > x1 and y2 == y1 :\n",
    "        angle = 0\n",
    "        \n",
    "    elif x2 < x1 and y2 < y1 :\n",
    "        angle =  3*(math.pi/2) - math.atan(dx / dy)\n",
    "    elif x2 < x1 and y2 > y1 :\n",
    "        angle = math.pi / 2.0 + math.atan(dy / -dx)\n",
    "    elif x2 < x1 and y2 == y1 :\n",
    "        angle = math.pi \n",
    "        \n",
    "        \n",
    "    return (angle * 180 / math.pi)"
   ]
  },
  {
   "cell_type": "code",
   "execution_count": 7,
   "id": "a9849f4a",
   "metadata": {},
   "outputs": [],
   "source": [
    "def angle_trunc(a):\n",
    "    while a < 0.0:\n",
    "        a += pi * 2\n",
    "    return a\n",
    "\n",
    "def getAngleBetweenPoints(x_orig, y_orig, x_landmark, y_landmark):\n",
    "    deltaY = y_landmark - y_orig\n",
    "    deltaX = x_landmark - x_orig\n",
    "    return angle_trunc(atan2(deltaY, deltaX))\n",
    "\n",
    "angle = getAngleBetweenPoints(5, 2, 1,4)\n",
    "assert angle >= 0, \"angle must be >= 0\"\n",
    "angle = getAngleBetweenPoints(1, 1, 2, 1)\n",
    "assert angle == 0, \"expecting angle to be 0\"\n",
    "angle = getAngleBetweenPoints(2, 1, 1, 1)\n",
    "assert abs(pi - angle) <= 0.01, \"expecting angle to be pi, it is: \" + str(angle)\n",
    "angle = getAngleBetweenPoints(2, 1, 2, 3)\n",
    "assert abs(angle - pi/2) <= 0.01, \"expecting angle to be pi/2, it is: \" + str(angle)\n",
    "angle = getAngleBetweenPoints(2, 1, 2, 0)\n",
    "assert abs(angle - (pi+pi/2)) <= 0.01, \"expecting angle to be pi+pi/2, it is: \" + str(angle)\n",
    "angle = getAngleBetweenPoints(1, 1, 2, 2)\n",
    "assert abs(angle - (pi/4)) <= 0.01, \"expecting angle to be pi/4, it is: \" + str(angle)\n",
    "angle = getAngleBetweenPoints(-1, -1, -2, -2)\n",
    "assert abs(angle - (pi+pi/4)) <= 0.01, \"expecting angle to be pi+pi/4, it is: \" + str(angle)\n",
    "angle = getAngleBetweenPoints(-1, -1, -1, 2)\n",
    "assert abs(angle - (pi/2)) <= 0.01, \"expecting angle to be pi/2, it is: \" + str(angle)"
   ]
  },
  {
   "cell_type": "code",
   "execution_count": 32,
   "id": "df7d4e9f",
   "metadata": {},
   "outputs": [],
   "source": [
    "x1 = 0\n",
    "y1 = 0\n",
    "x2 = 0\n",
    "y2 = -1"
   ]
  },
  {
   "cell_type": "code",
   "execution_count": 33,
   "id": "3153ccf2",
   "metadata": {},
   "outputs": [],
   "source": [
    "angle = getAngleBetweenPoints(x1, y1, x2, y2)"
   ]
  },
  {
   "cell_type": "code",
   "execution_count": 34,
   "id": "7ce88ae1",
   "metadata": {},
   "outputs": [
    {
     "data": {
      "text/plain": [
       "270.0"
      ]
     },
     "execution_count": 34,
     "metadata": {},
     "output_type": "execute_result"
    }
   ],
   "source": [
    "np.rad2deg(angle)"
   ]
  },
  {
   "cell_type": "code",
   "execution_count": 151,
   "id": "dbb21756",
   "metadata": {},
   "outputs": [],
   "source": [
    "a = azimuthAngle( x1, y1, x2, y2)"
   ]
  },
  {
   "cell_type": "code",
   "execution_count": 152,
   "id": "9777a35c",
   "metadata": {},
   "outputs": [
    {
     "data": {
      "text/plain": [
       "78.69006752597979"
      ]
     },
     "execution_count": 152,
     "metadata": {},
     "output_type": "execute_result"
    }
   ],
   "source": [
    "a"
   ]
  },
  {
   "cell_type": "code",
   "execution_count": 153,
   "id": "936e249b",
   "metadata": {},
   "outputs": [],
   "source": [
    "def calc_azimuth(point1, point2):\n",
    "    '''azimuth between 2 shapely points (interval 0 - 360)'''\n",
    "        \n",
    "    \n",
    "    \n",
    "    angle = np.arctan2(point2[0] - point1[0], point2[1] - point1[1])\n",
    "    #if point1[0] < point2[0]:\n",
    "       # angle +=\n",
    "        \n",
    "        \n",
    "    return np.degrees(angle) "
   ]
  },
  {
   "cell_type": "code",
   "execution_count": 154,
   "id": "6b09a346",
   "metadata": {},
   "outputs": [],
   "source": [
    "a2 = calc_azimuth((x1,y1), (x2,y2))"
   ]
  },
  {
   "cell_type": "code",
   "execution_count": 155,
   "id": "be4865e4",
   "metadata": {},
   "outputs": [
    {
     "data": {
      "text/plain": [
       "90.0"
      ]
     },
     "execution_count": 155,
     "metadata": {},
     "output_type": "execute_result"
    }
   ],
   "source": [
    "a2"
   ]
  },
  {
   "cell_type": "code",
   "execution_count": null,
   "id": "383fb84e",
   "metadata": {},
   "outputs": [],
   "source": []
  }
 ],
 "metadata": {
  "kernelspec": {
   "display_name": "Python 3 (ipykernel)",
   "language": "python",
   "name": "python3"
  },
  "language_info": {
   "codemirror_mode": {
    "name": "ipython",
    "version": 3
   },
   "file_extension": ".py",
   "mimetype": "text/x-python",
   "name": "python",
   "nbconvert_exporter": "python",
   "pygments_lexer": "ipython3",
   "version": "3.9.7"
  }
 },
 "nbformat": 4,
 "nbformat_minor": 5
}
