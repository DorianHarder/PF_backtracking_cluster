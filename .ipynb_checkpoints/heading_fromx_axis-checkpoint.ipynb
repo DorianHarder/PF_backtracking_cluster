{
 "cells": [
  {
   "cell_type": "code",
   "execution_count": 1,
   "id": "47538a4e",
   "metadata": {},
   "outputs": [],
   "source": [
    "import numpy as np\n",
    "import math\n",
    "import geopandas as gpd\n"
   ]
  },
  {
   "cell_type": "code",
   "execution_count": 245,
   "id": "cfd2d770",
   "metadata": {},
   "outputs": [],
   "source": [
    "def azimuthAngle( x1, y1, x2, y2):\n",
    "    angle = 0.0;\n",
    "    dx = x2 - x1\n",
    "    dy = y2 - y1\n",
    "    if x2 == x1 and y2 < y1 :\n",
    "        angle = 2* math.pi - math.pi / 2.0\n",
    "    elif x2 == x1 :\n",
    "        angle = math.pi\n",
    "    if y2 == y1 :\n",
    "        angle = math.pi\n",
    "    #elif y2 < y1 :\n",
    "        #angle = 3.0 * math.pi / 2.0\n",
    "    elif x2 > x1 and y2 > y1:\n",
    "        angle = math.atan(dx / dy)\n",
    "    elif x2 > x1 and y2 < y1 :\n",
    "        angle = math.pi / 2 + math.atan(-dy / dx)\n",
    "    elif x2 < x1 and y2 < y1 :\n",
    "        angle = math.pi + math.atan(dx / dy)\n",
    "    elif x2 < x1 and y2 > y1 :\n",
    "        angle = math.pi / 2.0 + math.atan(dy / -dx)\n",
    "    return (angle * 180 / math.pi)"
   ]
  },
  {
   "cell_type": "code",
   "execution_count": 246,
   "id": "89f5f072",
   "metadata": {},
   "outputs": [],
   "source": [
    "x1 = 0\n",
    "y1 = 0\n",
    "x2 = 0\n",
    "y2 = -1"
   ]
  },
  {
   "cell_type": "code",
   "execution_count": 247,
   "id": "dbb21756",
   "metadata": {},
   "outputs": [],
   "source": [
    "a = azimuthAngle( x1, y1, x2, y2)"
   ]
  },
  {
   "cell_type": "code",
   "execution_count": 248,
   "id": "9777a35c",
   "metadata": {},
   "outputs": [
    {
     "data": {
      "text/plain": [
       "270.0"
      ]
     },
     "execution_count": 248,
     "metadata": {},
     "output_type": "execute_result"
    }
   ],
   "source": [
    "a"
   ]
  },
  {
   "cell_type": "code",
   "execution_count": 153,
   "id": "936e249b",
   "metadata": {},
   "outputs": [],
   "source": [
    "def calc_azimuth(point1, point2):\n",
    "    '''azimuth between 2 shapely points (interval 0 - 360)'''\n",
    "        \n",
    "    \n",
    "    \n",
    "    angle = np.arctan2(point2[0] - point1[0], point2[1] - point1[1])\n",
    "    #if point1[0] < point2[0]:\n",
    "       # angle +=\n",
    "        \n",
    "        \n",
    "    return np.degrees(angle) "
   ]
  },
  {
   "cell_type": "code",
   "execution_count": 154,
   "id": "6b09a346",
   "metadata": {},
   "outputs": [],
   "source": [
    "a2 = calc_azimuth((x1,y1), (x2,y2))"
   ]
  },
  {
   "cell_type": "code",
   "execution_count": 155,
   "id": "be4865e4",
   "metadata": {},
   "outputs": [
    {
     "data": {
      "text/plain": [
       "90.0"
      ]
     },
     "execution_count": 155,
     "metadata": {},
     "output_type": "execute_result"
    }
   ],
   "source": [
    "a2"
   ]
  },
  {
   "cell_type": "code",
   "execution_count": null,
   "id": "383fb84e",
   "metadata": {},
   "outputs": [],
   "source": []
  }
 ],
 "metadata": {
  "kernelspec": {
   "display_name": "Python 3 (ipykernel)",
   "language": "python",
   "name": "python3"
  },
  "language_info": {
   "codemirror_mode": {
    "name": "ipython",
    "version": 3
   },
   "file_extension": ".py",
   "mimetype": "text/x-python",
   "name": "python",
   "nbconvert_exporter": "python",
   "pygments_lexer": "ipython3",
   "version": "3.9.7"
  }
 },
 "nbformat": 4,
 "nbformat_minor": 5
}
